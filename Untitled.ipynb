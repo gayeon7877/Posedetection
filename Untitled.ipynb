{
 "cells": [
  {
   "cell_type": "code",
   "execution_count": 2,
   "id": "7b386de0",
   "metadata": {},
   "outputs": [
    {
     "name": "stderr",
     "output_type": "stream",
     "text": [
      "fatal: destination path 'Pose-Estimation-Similarity-With-TensorFlow' already exists and is not an empty directory.\n"
     ]
    }
   ],
   "source": [
    "!git clone https://github.com/mohit9949/Pose-Estimation-Similarity-With-TensorFlow.git"
   ]
  },
  {
   "cell_type": "code",
   "execution_count": 3,
   "id": "56f696bd",
   "metadata": {},
   "outputs": [
    {
     "name": "stdout",
     "output_type": "stream",
     "text": [
      "C:\\Users\\gayea\\Downloads\\Untitled Folder 1\\Pose-Estimation-Similarity-With-TensorFlow\n"
     ]
    }
   ],
   "source": [
    "cd Pose-Estimation-Similarity-With-TensorFlow"
   ]
  },
  {
   "cell_type": "code",
   "execution_count": 4,
   "id": "d63bea7d",
   "metadata": {},
   "outputs": [
    {
     "name": "stdout",
     "output_type": "stream",
     "text": [
      "Collecting git+https://github.com/ppwwyyxx/tensorpack.git (from -r requirements.txt (line 13))\n",
      "  Cloning https://github.com/ppwwyyxx/tensorpack.git to c:\\users\\gayea\\appdata\\local\\temp\\pip-req-build-uy20sjj_\n",
      "  Resolved https://github.com/ppwwyyxx/tensorpack.git to commit 8d5244140fd6e135309c94135dc11ca39fcf1269\n",
      "Collecting argparse\n",
      "  Using cached argparse-1.4.0-py2.py3-none-any.whl (23 kB)\n",
      "Requirement already satisfied: dill in c:\\users\\gayea\\anaconda3\\lib\\site-packages (from -r requirements.txt (line 2)) (0.3.6)\n",
      "Requirement already satisfied: fire in c:\\users\\gayea\\anaconda3\\lib\\site-packages (from -r requirements.txt (line 3)) (0.5.0)\n",
      "Requirement already satisfied: matplotlib in c:\\users\\gayea\\anaconda3\\lib\\site-packages (from -r requirements.txt (line 4)) (3.5.1)\n",
      "Requirement already satisfied: numba in c:\\users\\gayea\\anaconda3\\lib\\site-packages (from -r requirements.txt (line 5)) (0.55.1)\n",
      "Requirement already satisfied: psutil in c:\\users\\gayea\\anaconda3\\lib\\site-packages (from -r requirements.txt (line 6)) (5.8.0)\n",
      "Requirement already satisfied: pycocotools in c:\\users\\gayea\\anaconda3\\lib\\site-packages (from -r requirements.txt (line 7)) (2.0)\n",
      "Requirement already satisfied: requests in c:\\users\\gayea\\anaconda3\\lib\\site-packages (from -r requirements.txt (line 8)) (2.27.1)\n",
      "Requirement already satisfied: scikit-image in c:\\users\\gayea\\anaconda3\\lib\\site-packages (from -r requirements.txt (line 9)) (0.19.2)\n",
      "Requirement already satisfied: scipy in c:\\users\\gayea\\anaconda3\\lib\\site-packages (from -r requirements.txt (line 10)) (1.7.3)\n",
      "Requirement already satisfied: slidingwindow in c:\\users\\gayea\\anaconda3\\lib\\site-packages (from -r requirements.txt (line 11)) (0.0.14)\n",
      "Requirement already satisfied: tqdm in c:\\users\\gayea\\anaconda3\\lib\\site-packages (from -r requirements.txt (line 12)) (4.64.0)\n",
      "Requirement already satisfied: tensorflow in c:\\users\\gayea\\anaconda3\\lib\\site-packages (from -r requirements.txt (line 14)) (2.11.0)\n",
      "Requirement already satisfied: opencv-python in c:\\users\\gayea\\anaconda3\\lib\\site-packages (from -r requirements.txt (line 15)) (4.7.0.68)\n",
      "Requirement already satisfied: termcolor in c:\\users\\gayea\\anaconda3\\lib\\site-packages (from fire->-r requirements.txt (line 3)) (2.2.0)\n",
      "Requirement already satisfied: six in c:\\users\\gayea\\anaconda3\\lib\\site-packages (from fire->-r requirements.txt (line 3)) (1.16.0)\n",
      "Requirement already satisfied: pillow>=6.2.0 in c:\\users\\gayea\\anaconda3\\lib\\site-packages (from matplotlib->-r requirements.txt (line 4)) (9.0.1)\n",
      "Requirement already satisfied: kiwisolver>=1.0.1 in c:\\users\\gayea\\anaconda3\\lib\\site-packages (from matplotlib->-r requirements.txt (line 4)) (1.3.2)\n",
      "Requirement already satisfied: fonttools>=4.22.0 in c:\\users\\gayea\\anaconda3\\lib\\site-packages (from matplotlib->-r requirements.txt (line 4)) (4.25.0)\n",
      "Requirement already satisfied: numpy>=1.17 in c:\\users\\gayea\\anaconda3\\lib\\site-packages (from matplotlib->-r requirements.txt (line 4)) (1.21.5)\n",
      "Requirement already satisfied: pyparsing>=2.2.1 in c:\\users\\gayea\\anaconda3\\lib\\site-packages (from matplotlib->-r requirements.txt (line 4)) (3.0.4)\n",
      "Requirement already satisfied: cycler>=0.10 in c:\\users\\gayea\\anaconda3\\lib\\site-packages (from matplotlib->-r requirements.txt (line 4)) (0.11.0)\n",
      "Requirement already satisfied: python-dateutil>=2.7 in c:\\users\\gayea\\anaconda3\\lib\\site-packages (from matplotlib->-r requirements.txt (line 4)) (2.8.2)\n",
      "Requirement already satisfied: packaging>=20.0 in c:\\users\\gayea\\anaconda3\\lib\\site-packages (from matplotlib->-r requirements.txt (line 4)) (21.3)\n",
      "Requirement already satisfied: llvmlite<0.39,>=0.38.0rc1 in c:\\users\\gayea\\anaconda3\\lib\\site-packages (from numba->-r requirements.txt (line 5)) (0.38.0)\n",
      "Requirement already satisfied: setuptools in c:\\users\\gayea\\anaconda3\\lib\\site-packages (from numba->-r requirements.txt (line 5)) (61.2.0)\n",
      "Requirement already satisfied: certifi>=2017.4.17 in c:\\users\\gayea\\anaconda3\\lib\\site-packages (from requests->-r requirements.txt (line 8)) (2021.10.8)\n",
      "Requirement already satisfied: charset-normalizer~=2.0.0 in c:\\users\\gayea\\anaconda3\\lib\\site-packages (from requests->-r requirements.txt (line 8)) (2.0.4)\n",
      "Requirement already satisfied: idna<4,>=2.5 in c:\\users\\gayea\\anaconda3\\lib\\site-packages (from requests->-r requirements.txt (line 8)) (3.3)\n",
      "Requirement already satisfied: urllib3<1.27,>=1.21.1 in c:\\users\\gayea\\anaconda3\\lib\\site-packages (from requests->-r requirements.txt (line 8)) (1.26.9)\n",
      "Requirement already satisfied: networkx>=2.2 in c:\\users\\gayea\\anaconda3\\lib\\site-packages (from scikit-image->-r requirements.txt (line 9)) (2.7.1)\n",
      "Requirement already satisfied: PyWavelets>=1.1.1 in c:\\users\\gayea\\anaconda3\\lib\\site-packages (from scikit-image->-r requirements.txt (line 9)) (1.3.0)\n",
      "Requirement already satisfied: imageio>=2.4.1 in c:\\users\\gayea\\anaconda3\\lib\\site-packages (from scikit-image->-r requirements.txt (line 9)) (2.9.0)\n",
      "Requirement already satisfied: tifffile>=2019.7.26 in c:\\users\\gayea\\anaconda3\\lib\\site-packages (from scikit-image->-r requirements.txt (line 9)) (2021.7.2)\n",
      "Requirement already satisfied: colorama in c:\\users\\gayea\\anaconda3\\lib\\site-packages (from tqdm->-r requirements.txt (line 12)) (0.4.4)\n",
      "Requirement already satisfied: tabulate>=0.7.7 in c:\\users\\gayea\\anaconda3\\lib\\site-packages (from tensorpack==0.11->-r requirements.txt (line 13)) (0.8.9)\n",
      "Requirement already satisfied: msgpack>=0.5.2 in c:\\users\\gayea\\anaconda3\\lib\\site-packages (from tensorpack==0.11->-r requirements.txt (line 13)) (1.0.2)\n",
      "Requirement already satisfied: msgpack-numpy>=0.4.4.2 in c:\\users\\gayea\\anaconda3\\lib\\site-packages (from tensorpack==0.11->-r requirements.txt (line 13)) (0.4.8)\n",
      "Requirement already satisfied: pyzmq>=16 in c:\\users\\gayea\\anaconda3\\lib\\site-packages (from tensorpack==0.11->-r requirements.txt (line 13)) (22.3.0)\n",
      "Requirement already satisfied: tensorflow-intel==2.11.0 in c:\\users\\gayea\\anaconda3\\lib\\site-packages (from tensorflow->-r requirements.txt (line 14)) (2.11.0)\n",
      "Requirement already satisfied: astunparse>=1.6.0 in c:\\users\\gayea\\anaconda3\\lib\\site-packages (from tensorflow-intel==2.11.0->tensorflow->-r requirements.txt (line 14)) (1.6.3)\n",
      "Requirement already satisfied: tensorboard<2.12,>=2.11 in c:\\users\\gayea\\anaconda3\\lib\\site-packages (from tensorflow-intel==2.11.0->tensorflow->-r requirements.txt (line 14)) (2.11.0)\n",
      "Requirement already satisfied: google-pasta>=0.1.1 in c:\\users\\gayea\\anaconda3\\lib\\site-packages (from tensorflow-intel==2.11.0->tensorflow->-r requirements.txt (line 14)) (0.2.0)\n",
      "Requirement already satisfied: grpcio<2.0,>=1.24.3 in c:\\users\\gayea\\anaconda3\\lib\\site-packages (from tensorflow-intel==2.11.0->tensorflow->-r requirements.txt (line 14)) (1.42.0)\n",
      "Requirement already satisfied: absl-py>=1.0.0 in c:\\users\\gayea\\anaconda3\\lib\\site-packages (from tensorflow-intel==2.11.0->tensorflow->-r requirements.txt (line 14)) (1.3.0)\n",
      "Requirement already satisfied: tensorflow-io-gcs-filesystem>=0.23.1 in c:\\users\\gayea\\anaconda3\\lib\\site-packages (from tensorflow-intel==2.11.0->tensorflow->-r requirements.txt (line 14)) (0.29.0)\n",
      "Requirement already satisfied: h5py>=2.9.0 in c:\\users\\gayea\\anaconda3\\lib\\site-packages (from tensorflow-intel==2.11.0->tensorflow->-r requirements.txt (line 14)) (3.6.0)\n",
      "Requirement already satisfied: flatbuffers>=2.0 in c:\\users\\gayea\\anaconda3\\lib\\site-packages (from tensorflow-intel==2.11.0->tensorflow->-r requirements.txt (line 14)) (23.1.4)\n",
      "Requirement already satisfied: keras<2.12,>=2.11.0 in c:\\users\\gayea\\anaconda3\\lib\\site-packages (from tensorflow-intel==2.11.0->tensorflow->-r requirements.txt (line 14)) (2.11.0)\n",
      "Requirement already satisfied: protobuf<3.20,>=3.9.2 in c:\\users\\gayea\\anaconda3\\lib\\site-packages (from tensorflow-intel==2.11.0->tensorflow->-r requirements.txt (line 14)) (3.19.1)\n",
      "Requirement already satisfied: wrapt>=1.11.0 in c:\\users\\gayea\\anaconda3\\lib\\site-packages (from tensorflow-intel==2.11.0->tensorflow->-r requirements.txt (line 14)) (1.12.1)\n",
      "Requirement already satisfied: opt-einsum>=2.3.2 in c:\\users\\gayea\\anaconda3\\lib\\site-packages (from tensorflow-intel==2.11.0->tensorflow->-r requirements.txt (line 14)) (3.3.0)\n",
      "Requirement already satisfied: tensorflow-estimator<2.12,>=2.11.0 in c:\\users\\gayea\\anaconda3\\lib\\site-packages (from tensorflow-intel==2.11.0->tensorflow->-r requirements.txt (line 14)) (2.11.0)\n",
      "Requirement already satisfied: libclang>=13.0.0 in c:\\users\\gayea\\anaconda3\\lib\\site-packages (from tensorflow-intel==2.11.0->tensorflow->-r requirements.txt (line 14)) (14.0.6)\n",
      "Requirement already satisfied: gast<=0.4.0,>=0.2.1 in c:\\users\\gayea\\anaconda3\\lib\\site-packages (from tensorflow-intel==2.11.0->tensorflow->-r requirements.txt (line 14)) (0.4.0)\n",
      "Requirement already satisfied: typing-extensions>=3.6.6 in c:\\users\\gayea\\anaconda3\\lib\\site-packages (from tensorflow-intel==2.11.0->tensorflow->-r requirements.txt (line 14)) (4.1.1)\n",
      "Requirement already satisfied: wheel<1.0,>=0.23.0 in c:\\users\\gayea\\anaconda3\\lib\\site-packages (from astunparse>=1.6.0->tensorflow-intel==2.11.0->tensorflow->-r requirements.txt (line 14)) (0.37.1)\n",
      "Requirement already satisfied: tensorboard-data-server<0.7.0,>=0.6.0 in c:\\users\\gayea\\anaconda3\\lib\\site-packages (from tensorboard<2.12,>=2.11->tensorflow-intel==2.11.0->tensorflow->-r requirements.txt (line 14)) (0.6.1)\n",
      "Requirement already satisfied: google-auth<3,>=1.6.3 in c:\\users\\gayea\\anaconda3\\lib\\site-packages (from tensorboard<2.12,>=2.11->tensorflow-intel==2.11.0->tensorflow->-r requirements.txt (line 14)) (1.33.0)\n",
      "Requirement already satisfied: tensorboard-plugin-wit>=1.6.0 in c:\\users\\gayea\\anaconda3\\lib\\site-packages (from tensorboard<2.12,>=2.11->tensorflow-intel==2.11.0->tensorflow->-r requirements.txt (line 14)) (1.8.1)\n",
      "Requirement already satisfied: werkzeug>=1.0.1 in c:\\users\\gayea\\anaconda3\\lib\\site-packages (from tensorboard<2.12,>=2.11->tensorflow-intel==2.11.0->tensorflow->-r requirements.txt (line 14)) (2.0.3)\n",
      "Requirement already satisfied: google-auth-oauthlib<0.5,>=0.4.1 in c:\\users\\gayea\\anaconda3\\lib\\site-packages (from tensorboard<2.12,>=2.11->tensorflow-intel==2.11.0->tensorflow->-r requirements.txt (line 14)) (0.4.6)\n",
      "Requirement already satisfied: markdown>=2.6.8 in c:\\users\\gayea\\anaconda3\\lib\\site-packages (from tensorboard<2.12,>=2.11->tensorflow-intel==2.11.0->tensorflow->-r requirements.txt (line 14)) (3.3.4)\n",
      "Requirement already satisfied: pyasn1-modules>=0.2.1 in c:\\users\\gayea\\anaconda3\\lib\\site-packages (from google-auth<3,>=1.6.3->tensorboard<2.12,>=2.11->tensorflow-intel==2.11.0->tensorflow->-r requirements.txt (line 14)) (0.2.8)\n",
      "Requirement already satisfied: rsa<5,>=3.1.4 in c:\\users\\gayea\\anaconda3\\lib\\site-packages (from google-auth<3,>=1.6.3->tensorboard<2.12,>=2.11->tensorflow-intel==2.11.0->tensorflow->-r requirements.txt (line 14)) (4.7.2)\n",
      "Requirement already satisfied: cachetools<5.0,>=2.0.0 in c:\\users\\gayea\\anaconda3\\lib\\site-packages (from google-auth<3,>=1.6.3->tensorboard<2.12,>=2.11->tensorflow-intel==2.11.0->tensorflow->-r requirements.txt (line 14)) (4.2.2)\n",
      "Requirement already satisfied: requests-oauthlib>=0.7.0 in c:\\users\\gayea\\anaconda3\\lib\\site-packages (from google-auth-oauthlib<0.5,>=0.4.1->tensorboard<2.12,>=2.11->tensorflow-intel==2.11.0->tensorflow->-r requirements.txt (line 14)) (1.3.1)\n",
      "Requirement already satisfied: pyasn1<0.5.0,>=0.4.6 in c:\\users\\gayea\\anaconda3\\lib\\site-packages (from pyasn1-modules>=0.2.1->google-auth<3,>=1.6.3->tensorboard<2.12,>=2.11->tensorflow-intel==2.11.0->tensorflow->-r requirements.txt (line 14)) (0.4.8)\n",
      "Requirement already satisfied: oauthlib>=3.0.0 in c:\\users\\gayea\\anaconda3\\lib\\site-packages (from requests-oauthlib>=0.7.0->google-auth-oauthlib<0.5,>=0.4.1->tensorboard<2.12,>=2.11->tensorflow-intel==2.11.0->tensorflow->-r requirements.txt (line 14)) (3.2.2)\n",
      "Installing collected packages: argparse\n",
      "Successfully installed argparse-1.4.0\n",
      "Note: you may need to restart the kernel to use updated packages.\n"
     ]
    },
    {
     "name": "stderr",
     "output_type": "stream",
     "text": [
      "  Running command git clone -q https://github.com/ppwwyyxx/tensorpack.git 'C:\\Users\\gayea\\AppData\\Local\\Temp\\pip-req-build-uy20sjj_'\n"
     ]
    }
   ],
   "source": [
    "pip install -r requirements.txt"
   ]
  },
  {
   "cell_type": "code",
   "execution_count": 7,
   "id": "30963047",
   "metadata": {},
   "outputs": [
    {
     "name": "stdout",
     "output_type": "stream",
     "text": [
      "Collecting git+https://github.com/ppwwyyxx/tensorpack.git (from -r requirements.txt (line 13))\n",
      "  Cloning https://github.com/ppwwyyxx/tensorpack.git to c:\\users\\gayea\\appdata\\local\\temp\\pip-req-build-7xd4slds\n",
      "  Resolved https://github.com/ppwwyyxx/tensorpack.git to commit 8d5244140fd6e135309c94135dc11ca39fcf1269\n",
      "Collecting argparse\n",
      "  Using cached argparse-1.4.0-py2.py3-none-any.whl (23 kB)\n",
      "Requirement already satisfied: dill in c:\\users\\gayea\\anaconda3\\lib\\site-packages (from -r requirements.txt (line 2)) (0.3.6)\n",
      "Requirement already satisfied: fire in c:\\users\\gayea\\anaconda3\\lib\\site-packages (from -r requirements.txt (line 3)) (0.5.0)\n",
      "Requirement already satisfied: matplotlib in c:\\users\\gayea\\anaconda3\\lib\\site-packages (from -r requirements.txt (line 4)) (3.5.1)\n",
      "Requirement already satisfied: numba in c:\\users\\gayea\\anaconda3\\lib\\site-packages (from -r requirements.txt (line 5)) (0.55.1)\n",
      "Requirement already satisfied: psutil in c:\\users\\gayea\\anaconda3\\lib\\site-packages (from -r requirements.txt (line 6)) (5.8.0)\n",
      "Requirement already satisfied: pycocotools in c:\\users\\gayea\\anaconda3\\lib\\site-packages (from -r requirements.txt (line 7)) (2.0)\n",
      "Requirement already satisfied: requests in c:\\users\\gayea\\anaconda3\\lib\\site-packages (from -r requirements.txt (line 8)) (2.27.1)\n",
      "Requirement already satisfied: scikit-image in c:\\users\\gayea\\anaconda3\\lib\\site-packages (from -r requirements.txt (line 9)) (0.19.2)\n",
      "Requirement already satisfied: scipy in c:\\users\\gayea\\anaconda3\\lib\\site-packages (from -r requirements.txt (line 10)) (1.7.3)\n",
      "Requirement already satisfied: slidingwindow in c:\\users\\gayea\\anaconda3\\lib\\site-packages (from -r requirements.txt (line 11)) (0.0.14)\n",
      "Requirement already satisfied: tqdm in c:\\users\\gayea\\anaconda3\\lib\\site-packages (from -r requirements.txt (line 12)) (4.64.0)\n",
      "Requirement already satisfied: tensorflow in c:\\users\\gayea\\anaconda3\\lib\\site-packages (from -r requirements.txt (line 14)) (2.11.0)\n",
      "Requirement already satisfied: opencv-python in c:\\users\\gayea\\anaconda3\\lib\\site-packages (from -r requirements.txt (line 15)) (4.7.0.68)\n",
      "Requirement already satisfied: termcolor in c:\\users\\gayea\\anaconda3\\lib\\site-packages (from fire->-r requirements.txt (line 3)) (2.2.0)\n",
      "Requirement already satisfied: six in c:\\users\\gayea\\anaconda3\\lib\\site-packages (from fire->-r requirements.txt (line 3)) (1.16.0)\n",
      "Requirement already satisfied: cycler>=0.10 in c:\\users\\gayea\\anaconda3\\lib\\site-packages (from matplotlib->-r requirements.txt (line 4)) (0.11.0)\n",
      "Requirement already satisfied: fonttools>=4.22.0 in c:\\users\\gayea\\anaconda3\\lib\\site-packages (from matplotlib->-r requirements.txt (line 4)) (4.25.0)\n",
      "Requirement already satisfied: pyparsing>=2.2.1 in c:\\users\\gayea\\anaconda3\\lib\\site-packages (from matplotlib->-r requirements.txt (line 4)) (3.0.4)\n",
      "Requirement already satisfied: python-dateutil>=2.7 in c:\\users\\gayea\\anaconda3\\lib\\site-packages (from matplotlib->-r requirements.txt (line 4)) (2.8.2)\n",
      "Requirement already satisfied: pillow>=6.2.0 in c:\\users\\gayea\\anaconda3\\lib\\site-packages (from matplotlib->-r requirements.txt (line 4)) (9.0.1)\n",
      "Requirement already satisfied: packaging>=20.0 in c:\\users\\gayea\\anaconda3\\lib\\site-packages (from matplotlib->-r requirements.txt (line 4)) (21.3)\n",
      "Requirement already satisfied: numpy>=1.17 in c:\\users\\gayea\\anaconda3\\lib\\site-packages (from matplotlib->-r requirements.txt (line 4)) (1.21.5)\n",
      "Requirement already satisfied: kiwisolver>=1.0.1 in c:\\users\\gayea\\anaconda3\\lib\\site-packages (from matplotlib->-r requirements.txt (line 4)) (1.3.2)\n",
      "Requirement already satisfied: setuptools in c:\\users\\gayea\\anaconda3\\lib\\site-packages (from numba->-r requirements.txt (line 5)) (61.2.0)\n",
      "Requirement already satisfied: llvmlite<0.39,>=0.38.0rc1 in c:\\users\\gayea\\anaconda3\\lib\\site-packages (from numba->-r requirements.txt (line 5)) (0.38.0)\n",
      "Requirement already satisfied: certifi>=2017.4.17 in c:\\users\\gayea\\anaconda3\\lib\\site-packages (from requests->-r requirements.txt (line 8)) (2021.10.8)\n",
      "Requirement already satisfied: charset-normalizer~=2.0.0 in c:\\users\\gayea\\anaconda3\\lib\\site-packages (from requests->-r requirements.txt (line 8)) (2.0.4)\n",
      "Requirement already satisfied: idna<4,>=2.5 in c:\\users\\gayea\\anaconda3\\lib\\site-packages (from requests->-r requirements.txt (line 8)) (3.3)\n",
      "Requirement already satisfied: urllib3<1.27,>=1.21.1 in c:\\users\\gayea\\anaconda3\\lib\\site-packages (from requests->-r requirements.txt (line 8)) (1.26.9)\n",
      "Requirement already satisfied: imageio>=2.4.1 in c:\\users\\gayea\\anaconda3\\lib\\site-packages (from scikit-image->-r requirements.txt (line 9)) (2.9.0)\n",
      "Requirement already satisfied: tifffile>=2019.7.26 in c:\\users\\gayea\\anaconda3\\lib\\site-packages (from scikit-image->-r requirements.txt (line 9)) (2021.7.2)\n",
      "Requirement already satisfied: PyWavelets>=1.1.1 in c:\\users\\gayea\\anaconda3\\lib\\site-packages (from scikit-image->-r requirements.txt (line 9)) (1.3.0)\n",
      "Requirement already satisfied: networkx>=2.2 in c:\\users\\gayea\\anaconda3\\lib\\site-packages (from scikit-image->-r requirements.txt (line 9)) (2.7.1)\n",
      "Requirement already satisfied: colorama in c:\\users\\gayea\\anaconda3\\lib\\site-packages (from tqdm->-r requirements.txt (line 12)) (0.4.4)\n",
      "Requirement already satisfied: tabulate>=0.7.7 in c:\\users\\gayea\\anaconda3\\lib\\site-packages (from tensorpack==0.11->-r requirements.txt (line 13)) (0.8.9)\n",
      "Requirement already satisfied: msgpack>=0.5.2 in c:\\users\\gayea\\anaconda3\\lib\\site-packages (from tensorpack==0.11->-r requirements.txt (line 13)) (1.0.2)\n",
      "Requirement already satisfied: msgpack-numpy>=0.4.4.2 in c:\\users\\gayea\\anaconda3\\lib\\site-packages (from tensorpack==0.11->-r requirements.txt (line 13)) (0.4.8)\n",
      "Requirement already satisfied: pyzmq>=16 in c:\\users\\gayea\\anaconda3\\lib\\site-packages (from tensorpack==0.11->-r requirements.txt (line 13)) (22.3.0)\n",
      "Requirement already satisfied: tensorflow-intel==2.11.0 in c:\\users\\gayea\\anaconda3\\lib\\site-packages (from tensorflow->-r requirements.txt (line 14)) (2.11.0)\n",
      "Requirement already satisfied: keras<2.12,>=2.11.0 in c:\\users\\gayea\\anaconda3\\lib\\site-packages (from tensorflow-intel==2.11.0->tensorflow->-r requirements.txt (line 14)) (2.11.0)\n",
      "Requirement already satisfied: libclang>=13.0.0 in c:\\users\\gayea\\anaconda3\\lib\\site-packages (from tensorflow-intel==2.11.0->tensorflow->-r requirements.txt (line 14)) (14.0.6)\n",
      "Requirement already satisfied: wrapt>=1.11.0 in c:\\users\\gayea\\anaconda3\\lib\\site-packages (from tensorflow-intel==2.11.0->tensorflow->-r requirements.txt (line 14)) (1.12.1)Note: you may need to restart the kernel to use updated packages.\n",
      "Requirement already satisfied: typing-extensions>=3.6.6 in c:\\users\\gayea\\anaconda3\\lib\\site-packages (from tensorflow-intel==2.11.0->tensorflow->-r requirements.txt (line 14)) (4.1.1)\n",
      "Requirement already satisfied: tensorboard<2.12,>=2.11 in c:\\users\\gayea\\anaconda3\\lib\\site-packages (from tensorflow-intel==2.11.0->tensorflow->-r requirements.txt (line 14)) (2.11.0)\n",
      "Requirement already satisfied: tensorflow-io-gcs-filesystem>=0.23.1 in c:\\users\\gayea\\anaconda3\\lib\\site-packages (from tensorflow-intel==2.11.0->tensorflow->-r requirements.txt (line 14)) (0.29.0)\n",
      "Requirement already satisfied: absl-py>=1.0.0 in c:\\users\\gayea\\anaconda3\\lib\\site-packages (from tensorflow-intel==2.11.0->tensorflow->-r requirements.txt (line 14)) (1.3.0)\n",
      "Requirement already satisfied: gast<=0.4.0,>=0.2.1 in c:\\users\\gayea\\anaconda3\\lib\\site-packages (from tensorflow-intel==2.11.0->tensorflow->-r requirements.txt (line 14)) (0.4.0)\n",
      "Requirement already satisfied: flatbuffers>=2.0 in c:\\users\\gayea\\anaconda3\\lib\\site-packages (from tensorflow-intel==2.11.0->tensorflow->-r requirements.txt (line 14)) (23.1.4)\n",
      "Requirement already satisfied: h5py>=2.9.0 in c:\\users\\gayea\\anaconda3\\lib\\site-packages (from tensorflow-intel==2.11.0->tensorflow->-r requirements.txt (line 14)) (3.6.0)\n",
      "Requirement already satisfied: tensorflow-estimator<2.12,>=2.11.0 in c:\\users\\gayea\\anaconda3\\lib\\site-packages (from tensorflow-intel==2.11.0->tensorflow->-r requirements.txt (line 14)) (2.11.0)\n",
      "Requirement already satisfied: astunparse>=1.6.0 in c:\\users\\gayea\\anaconda3\\lib\\site-packages (from tensorflow-intel==2.11.0->tensorflow->-r requirements.txt (line 14)) (1.6.3)\n",
      "Requirement already satisfied: grpcio<2.0,>=1.24.3 in c:\\users\\gayea\\anaconda3\\lib\\site-packages (from tensorflow-intel==2.11.0->tensorflow->-r requirements.txt (line 14)) (1.42.0)\n",
      "Requirement already satisfied: google-pasta>=0.1.1 in c:\\users\\gayea\\anaconda3\\lib\\site-packages (from tensorflow-intel==2.11.0->tensorflow->-r requirements.txt (line 14)) (0.2.0)\n",
      "Requirement already satisfied: protobuf<3.20,>=3.9.2 in c:\\users\\gayea\\anaconda3\\lib\\site-packages (from tensorflow-intel==2.11.0->tensorflow->-r requirements.txt (line 14)) (3.19.1)\n",
      "Requirement already satisfied: opt-einsum>=2.3.2 in c:\\users\\gayea\\anaconda3\\lib\\site-packages (from tensorflow-intel==2.11.0->tensorflow->-r requirements.txt (line 14)) (3.3.0)\n",
      "Requirement already satisfied: wheel<1.0,>=0.23.0 in c:\\users\\gayea\\anaconda3\\lib\\site-packages (from astunparse>=1.6.0->tensorflow-intel==2.11.0->tensorflow->-r requirements.txt (line 14)) (0.37.1)\n",
      "Requirement already satisfied: google-auth-oauthlib<0.5,>=0.4.1 in c:\\users\\gayea\\anaconda3\\lib\\site-packages (from tensorboard<2.12,>=2.11->tensorflow-intel==2.11.0->tensorflow->-r requirements.txt (line 14)) (0.4.6)\n",
      "Requirement already satisfied: tensorboard-plugin-wit>=1.6.0 in c:\\users\\gayea\\anaconda3\\lib\\site-packages (from tensorboard<2.12,>=2.11->tensorflow-intel==2.11.0->tensorflow->-r requirements.txt (line 14)) (1.8.1)\n",
      "Requirement already satisfied: markdown>=2.6.8 in c:\\users\\gayea\\anaconda3\\lib\\site-packages (from tensorboard<2.12,>=2.11->tensorflow-intel==2.11.0->tensorflow->-r requirements.txt (line 14)) (3.3.4)\n",
      "Requirement already satisfied: google-auth<3,>=1.6.3 in c:\\users\\gayea\\anaconda3\\lib\\site-packages (from tensorboard<2.12,>=2.11->tensorflow-intel==2.11.0->tensorflow->-r requirements.txt (line 14)) (1.33.0)\n",
      "Requirement already satisfied: werkzeug>=1.0.1 in c:\\users\\gayea\\anaconda3\\lib\\site-packages (from tensorboard<2.12,>=2.11->tensorflow-intel==2.11.0->tensorflow->-r requirements.txt (line 14)) (2.0.3)\n",
      "Requirement already satisfied: tensorboard-data-server<0.7.0,>=0.6.0 in c:\\users\\gayea\\anaconda3\\lib\\site-packages (from tensorboard<2.12,>=2.11->tensorflow-intel==2.11.0->tensorflow->-r requirements.txt (line 14)) (0.6.1)\n",
      "Requirement already satisfied: cachetools<5.0,>=2.0.0 in c:\\users\\gayea\\anaconda3\\lib\\site-packages (from google-auth<3,>=1.6.3->tensorboard<2.12,>=2.11->tensorflow-intel==2.11.0->tensorflow->-r requirements.txt (line 14)) (4.2.2)\n",
      "Requirement already satisfied: pyasn1-modules>=0.2.1 in c:\\users\\gayea\\anaconda3\\lib\\site-packages (from google-auth<3,>=1.6.3->tensorboard<2.12,>=2.11->tensorflow-intel==2.11.0->tensorflow->-r requirements.txt (line 14)) (0.2.8)\n",
      "Requirement already satisfied: rsa<5,>=3.1.4 in c:\\users\\gayea\\anaconda3\\lib\\site-packages (from google-auth<3,>=1.6.3->tensorboard<2.12,>=2.11->tensorflow-intel==2.11.0->tensorflow->-r requirements.txt (line 14)) (4.7.2)\n",
      "Requirement already satisfied: requests-oauthlib>=0.7.0 in c:\\users\\gayea\\anaconda3\\lib\\site-packages (from google-auth-oauthlib<0.5,>=0.4.1->tensorboard<2.12,>=2.11->tensorflow-intel==2.11.0->tensorflow->-r requirements.txt (line 14)) (1.3.1)\n",
      "Requirement already satisfied: pyasn1<0.5.0,>=0.4.6 in c:\\users\\gayea\\anaconda3\\lib\\site-packages (from pyasn1-modules>=0.2.1->google-auth<3,>=1.6.3->tensorboard<2.12,>=2.11->tensorflow-intel==2.11.0->tensorflow->-r requirements.txt (line 14)) (0.4.8)\n",
      "Requirement already satisfied: oauthlib>=3.0.0 in c:\\users\\gayea\\anaconda3\\lib\\site-packages (from requests-oauthlib>=0.7.0->google-auth-oauthlib<0.5,>=0.4.1->tensorboard<2.12,>=2.11->tensorflow-intel==2.11.0->tensorflow->-r requirements.txt (line 14)) (3.2.2)\n",
      "Installing collected packages: argparse\n",
      "Successfully installed argparse-1.4.0\n",
      "\n"
     ]
    },
    {
     "name": "stderr",
     "output_type": "stream",
     "text": [
      "  Running command git clone -q https://github.com/ppwwyyxx/tensorpack.git 'C:\\Users\\gayea\\AppData\\Local\\Temp\\pip-req-build-7xd4slds'\n"
     ]
    }
   ],
   "source": [
    "pip install -r requirements.txt"
   ]
  },
  {
   "cell_type": "code",
   "execution_count": 8,
   "id": "01c79b74",
   "metadata": {},
   "outputs": [
    {
     "name": "stderr",
     "output_type": "stream",
     "text": [
      "Cloning into 'Mask_RCNN'...\n"
     ]
    }
   ],
   "source": [
    "!git clone https://github.com/matterport/Mask_RCNN.git"
   ]
  },
  {
   "cell_type": "code",
   "execution_count": 10,
   "id": "e2abd663",
   "metadata": {},
   "outputs": [
    {
     "name": "stderr",
     "output_type": "stream",
     "text": [
      "fatal: destination path 'cocoapi' already exists and is not an empty directory.\n"
     ]
    }
   ],
   "source": [
    "!git clone https://github.com/philferriere/cocoapi.git"
   ]
  },
  {
   "cell_type": "code",
   "execution_count": 11,
   "id": "ad183ca0",
   "metadata": {},
   "outputs": [
    {
     "name": "stdout",
     "output_type": "stream",
     "text": [
      "Collecting git+https://github.com/philferriere/cocoapi.git#subdirectory=PythonAPI\n",
      "  Cloning https://github.com/philferriere/cocoapi.git to c:\\users\\gayea\\appdata\\local\\temp\\pip-req-build-j1ymcojd\n",
      "  Resolved https://github.com/philferriere/cocoapi.git to commit 2929bd2ef6b451054755dfd7ceb09278f935f7ad\n",
      "Note: you may need to restart the kernel to use updated packages.\n"
     ]
    },
    {
     "name": "stderr",
     "output_type": "stream",
     "text": [
      "  Running command git clone -q https://github.com/philferriere/cocoapi.git 'C:\\Users\\gayea\\AppData\\Local\\Temp\\pip-req-build-j1ymcojd'\n"
     ]
    }
   ],
   "source": [
    "pip install git+https://github.com/philferriere/cocoapi.git#subdirectory=PythonAPI"
   ]
  },
  {
   "cell_type": "code",
   "execution_count": 16,
   "id": "4ef47e1f",
   "metadata": {},
   "outputs": [
    {
     "name": "stdout",
     "output_type": "stream",
     "text": [
      "[WinError 3] 지정된 경로를 찾을 수 없습니다: 'tf_pose/pafprocess'\n",
      "C:\\Users\\gayea\\Downloads\\Untitled Folder 1\\Pose-Estimation-Similarity-With-TensorFlow\\tf_pose\\pafprocess\n"
     ]
    }
   ],
   "source": [
    "cd tf_pose/pafprocess"
   ]
  },
  {
   "cell_type": "code",
   "execution_count": 15,
   "id": "4b8ba004",
   "metadata": {},
   "outputs": [
    {
     "ename": "NameError",
     "evalue": "name 'swig' is not defined",
     "output_type": "error",
     "traceback": [
      "\u001b[1;31m---------------------------------------------------------------------------\u001b[0m",
      "\u001b[1;31mNameError\u001b[0m                                 Traceback (most recent call last)",
      "Input \u001b[1;32mIn [15]\u001b[0m, in \u001b[0;36m<cell line: 1>\u001b[1;34m()\u001b[0m\n\u001b[1;32m----> 1\u001b[0m \u001b[43mswig\u001b[49m \u001b[38;5;241m-\u001b[39mpython \u001b[38;5;241m-\u001b[39mc\u001b[38;5;241m+\u001b[39m\u001b[38;5;241m+\u001b[39m pafprocess\u001b[38;5;241m.\u001b[39mi\n",
      "\u001b[1;31mNameError\u001b[0m: name 'swig' is not defined"
     ]
    }
   ],
   "source": [
    "pw"
   ]
  },
  {
   "cell_type": "code",
   "execution_count": null,
   "id": "f3811a86",
   "metadata": {},
   "outputs": [],
   "source": []
  }
 ],
 "metadata": {
  "kernelspec": {
   "display_name": "Python 3 (ipykernel)",
   "language": "python",
   "name": "python3"
  },
  "language_info": {
   "codemirror_mode": {
    "name": "ipython",
    "version": 3
   },
   "file_extension": ".py",
   "mimetype": "text/x-python",
   "name": "python",
   "nbconvert_exporter": "python",
   "pygments_lexer": "ipython3",
   "version": "3.9.12"
  }
 },
 "nbformat": 4,
 "nbformat_minor": 5
}
